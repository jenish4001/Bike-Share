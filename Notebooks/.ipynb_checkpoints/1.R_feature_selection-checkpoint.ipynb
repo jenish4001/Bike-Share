{
 "cells": [
  {
   "cell_type": "markdown",
   "metadata": {},
   "source": [
    "# Feature Extraction using backward elimination"
   ]
  },
  {
   "cell_type": "markdown",
   "metadata": {},
   "source": [
    "## Feature selection for \"Registered\""
   ]
  },
  {
   "cell_type": "code",
   "execution_count": 2,
   "metadata": {},
   "outputs": [],
   "source": [
    "data=read.csv(file=\"../Data/Daily.csv\",header=TRUE,sep=',')\n",
    "data$casual=NULL\n",
    "data$cnt=NULL\n",
    "data$dteday=NULL\n",
    "data$instant=NULL"
   ]
  },
  {
   "cell_type": "code",
   "execution_count": 3,
   "metadata": {},
   "outputs": [
    {
     "data": {
      "text/html": [
       "<table>\n",
       "<thead><tr><th scope=col>season</th><th scope=col>yr</th><th scope=col>mnth</th><th scope=col>holiday</th><th scope=col>weekday</th><th scope=col>workingday</th><th scope=col>weathersit</th><th scope=col>temp</th><th scope=col>atemp</th><th scope=col>hum</th><th scope=col>windspeed</th><th scope=col>registered</th></tr></thead>\n",
       "<tbody>\n",
       "\t<tr><td>1        </td><td>0        </td><td>1        </td><td>0        </td><td>6        </td><td>0        </td><td>2        </td><td>0.344167 </td><td>0.363625 </td><td>0.805833 </td><td>0.1604460</td><td> 654     </td></tr>\n",
       "\t<tr><td>1        </td><td>0        </td><td>1        </td><td>0        </td><td>0        </td><td>0        </td><td>2        </td><td>0.363478 </td><td>0.353739 </td><td>0.696087 </td><td>0.2485390</td><td> 670     </td></tr>\n",
       "\t<tr><td>1        </td><td>0        </td><td>1        </td><td>0        </td><td>1        </td><td>1        </td><td>1        </td><td>0.196364 </td><td>0.189405 </td><td>0.437273 </td><td>0.2483090</td><td>1229     </td></tr>\n",
       "\t<tr><td>1        </td><td>0        </td><td>1        </td><td>0        </td><td>2        </td><td>1        </td><td>1        </td><td>0.200000 </td><td>0.212122 </td><td>0.590435 </td><td>0.1602960</td><td>1454     </td></tr>\n",
       "\t<tr><td>1        </td><td>0        </td><td>1        </td><td>0        </td><td>3        </td><td>1        </td><td>1        </td><td>0.226957 </td><td>0.229270 </td><td>0.436957 </td><td>0.1869000</td><td>1518     </td></tr>\n",
       "\t<tr><td>1        </td><td>0        </td><td>1        </td><td>0        </td><td>4        </td><td>1        </td><td>1        </td><td>0.204348 </td><td>0.233209 </td><td>0.518261 </td><td>0.0895652</td><td>1518     </td></tr>\n",
       "</tbody>\n",
       "</table>\n"
      ],
      "text/latex": [
       "\\begin{tabular}{r|llllllllllll}\n",
       " season & yr & mnth & holiday & weekday & workingday & weathersit & temp & atemp & hum & windspeed & registered\\\\\n",
       "\\hline\n",
       "\t 1         & 0         & 1         & 0         & 6         & 0         & 2         & 0.344167  & 0.363625  & 0.805833  & 0.1604460 &  654     \\\\\n",
       "\t 1         & 0         & 1         & 0         & 0         & 0         & 2         & 0.363478  & 0.353739  & 0.696087  & 0.2485390 &  670     \\\\\n",
       "\t 1         & 0         & 1         & 0         & 1         & 1         & 1         & 0.196364  & 0.189405  & 0.437273  & 0.2483090 & 1229     \\\\\n",
       "\t 1         & 0         & 1         & 0         & 2         & 1         & 1         & 0.200000  & 0.212122  & 0.590435  & 0.1602960 & 1454     \\\\\n",
       "\t 1         & 0         & 1         & 0         & 3         & 1         & 1         & 0.226957  & 0.229270  & 0.436957  & 0.1869000 & 1518     \\\\\n",
       "\t 1         & 0         & 1         & 0         & 4         & 1         & 1         & 0.204348  & 0.233209  & 0.518261  & 0.0895652 & 1518     \\\\\n",
       "\\end{tabular}\n"
      ],
      "text/markdown": [
       "\n",
       "| season | yr | mnth | holiday | weekday | workingday | weathersit | temp | atemp | hum | windspeed | registered |\n",
       "|---|---|---|---|---|---|---|---|---|---|---|---|\n",
       "| 1         | 0         | 1         | 0         | 6         | 0         | 2         | 0.344167  | 0.363625  | 0.805833  | 0.1604460 |  654      |\n",
       "| 1         | 0         | 1         | 0         | 0         | 0         | 2         | 0.363478  | 0.353739  | 0.696087  | 0.2485390 |  670      |\n",
       "| 1         | 0         | 1         | 0         | 1         | 1         | 1         | 0.196364  | 0.189405  | 0.437273  | 0.2483090 | 1229      |\n",
       "| 1         | 0         | 1         | 0         | 2         | 1         | 1         | 0.200000  | 0.212122  | 0.590435  | 0.1602960 | 1454      |\n",
       "| 1         | 0         | 1         | 0         | 3         | 1         | 1         | 0.226957  | 0.229270  | 0.436957  | 0.1869000 | 1518      |\n",
       "| 1         | 0         | 1         | 0         | 4         | 1         | 1         | 0.204348  | 0.233209  | 0.518261  | 0.0895652 | 1518      |\n",
       "\n"
      ],
      "text/plain": [
       "  season yr mnth holiday weekday workingday weathersit temp     atemp   \n",
       "1 1      0  1    0       6       0          2          0.344167 0.363625\n",
       "2 1      0  1    0       0       0          2          0.363478 0.353739\n",
       "3 1      0  1    0       1       1          1          0.196364 0.189405\n",
       "4 1      0  1    0       2       1          1          0.200000 0.212122\n",
       "5 1      0  1    0       3       1          1          0.226957 0.229270\n",
       "6 1      0  1    0       4       1          1          0.204348 0.233209\n",
       "  hum      windspeed registered\n",
       "1 0.805833 0.1604460  654      \n",
       "2 0.696087 0.2485390  670      \n",
       "3 0.437273 0.2483090 1229      \n",
       "4 0.590435 0.1602960 1454      \n",
       "5 0.436957 0.1869000 1518      \n",
       "6 0.518261 0.0895652 1518      "
      ]
     },
     "metadata": {},
     "output_type": "display_data"
    }
   ],
   "source": [
    "head(data)"
   ]
  },
  {
   "cell_type": "markdown",
   "metadata": {},
   "source": [
    "## Select all columns to begin with"
   ]
  },
  {
   "cell_type": "code",
   "execution_count": 4,
   "metadata": {
    "scrolled": true
   },
   "outputs": [
    {
     "data": {
      "text/plain": [
       "\n",
       "Call:\n",
       "lm(formula = registered ~ ., data = data)\n",
       "\n",
       "Residuals:\n",
       "    Min      1Q  Median      3Q     Max \n",
       "-3945.2  -350.7    77.2   430.5  1595.6 \n",
       "\n",
       "Coefficients:\n",
       "            Estimate Std. Error t value Pr(>|t|)    \n",
       "(Intercept)   768.21     185.55   4.140 3.88e-05 ***\n",
       "season        447.95      42.30  10.591  < 2e-16 ***\n",
       "yr           1754.02      50.35  34.836  < 2e-16 ***\n",
       "mnth          -23.24      13.19  -1.761 0.078618 .  \n",
       "holiday      -244.78     155.29  -1.576 0.115403    \n",
       "weekday        42.70      12.59   3.392 0.000733 ***\n",
       "workingday    948.61      55.62  17.055  < 2e-16 ***\n",
       "weathersit   -497.94      60.53  -8.226 9.04e-16 ***\n",
       "temp          834.07    1084.23   0.769 0.441982    \n",
       "atemp        2678.42    1227.69   2.182 0.029456 *  \n",
       "hum          -625.63     242.54  -2.580 0.010091 *  \n",
       "windspeed   -1695.52     352.44  -4.811 1.83e-06 ***\n",
       "---\n",
       "Signif. codes:  0 '***' 0.001 '**' 0.01 '*' 0.05 '.' 0.1 ' ' 1\n",
       "\n",
       "Residual standard error: 673.9 on 719 degrees of freedom\n",
       "Multiple R-squared:  0.8163,\tAdjusted R-squared:  0.8135 \n",
       "F-statistic: 290.4 on 11 and 719 DF,  p-value: < 2.2e-16\n"
      ]
     },
     "metadata": {},
     "output_type": "display_data"
    }
   ],
   "source": [
    "MultiLinearReg=lm(registered~.,data=data)\n",
    "summary(MultiLinearReg)"
   ]
  },
  {
   "cell_type": "markdown",
   "metadata": {},
   "source": [
    "## Remove \"mnth\", \"temp\", \"holiday\" as they are not significant"
   ]
  },
  {
   "cell_type": "code",
   "execution_count": 5,
   "metadata": {},
   "outputs": [
    {
     "data": {
      "text/plain": [
       "\n",
       "Call:\n",
       "lm(formula = registered ~ season + yr + weekday + workingday + \n",
       "    weathersit + atemp + hum + windspeed, data = data)\n",
       "\n",
       "Residuals:\n",
       "    Min      1Q  Median      3Q     Max \n",
       "-3949.4  -341.3    83.5   426.9  1561.1 \n",
       "\n",
       "Coefficients:\n",
       "            Estimate Std. Error t value Pr(>|t|)    \n",
       "(Intercept)   703.47     178.66   3.937 9.04e-05 ***\n",
       "season        387.13      24.58  15.748  < 2e-16 ***\n",
       "yr           1752.12      50.46  34.726  < 2e-16 ***\n",
       "weekday        44.40      12.54   3.541 0.000424 ***\n",
       "workingday    972.91      54.00  18.016  < 2e-16 ***\n",
       "weathersit   -491.28      60.59  -8.108 2.21e-15 ***\n",
       "atemp        3656.63     169.15  21.617  < 2e-16 ***\n",
       "hum          -678.43     241.52  -2.809 0.005104 ** \n",
       "windspeed   -1641.18     348.48  -4.710 2.98e-06 ***\n",
       "---\n",
       "Signif. codes:  0 '***' 0.001 '**' 0.01 '*' 0.05 '.' 0.1 ' ' 1\n",
       "\n",
       "Residual standard error: 675.4 on 722 degrees of freedom\n",
       "Multiple R-squared:  0.8147,\tAdjusted R-squared:  0.8126 \n",
       "F-statistic: 396.7 on 8 and 722 DF,  p-value: < 2.2e-16\n"
      ]
     },
     "metadata": {},
     "output_type": "display_data"
    }
   ],
   "source": [
    "MultiLinearReg=lm(registered~season+yr+weekday+workingday+weathersit+atemp+hum+windspeed,data=data)\n",
    "summary(MultiLinearReg)"
   ]
  },
  {
   "cell_type": "markdown",
   "metadata": {},
   "source": [
    "# 2. Feature selection for \"Casual\""
   ]
  },
  {
   "cell_type": "code",
   "execution_count": 7,
   "metadata": {},
   "outputs": [],
   "source": [
    "data=read.csv(file=\"../Data/Daily.csv\",header=TRUE,sep=',')\n",
    "data$registered=NULL\n",
    "data$cnt=NULL\n",
    "data$dteday=NULL\n",
    "data$instant=NULL"
   ]
  },
  {
   "cell_type": "markdown",
   "metadata": {},
   "source": [
    "## Select all columns to begin with"
   ]
  },
  {
   "cell_type": "code",
   "execution_count": 8,
   "metadata": {
    "scrolled": true
   },
   "outputs": [
    {
     "data": {
      "text/plain": [
       "\n",
       "Call:\n",
       "lm(formula = casual ~ ., data = data)\n",
       "\n",
       "Residuals:\n",
       "     Min       1Q   Median       3Q      Max \n",
       "-1258.79  -221.62   -13.06   179.80  1620.28 \n",
       "\n",
       "Coefficients:\n",
       "            Estimate Std. Error t value Pr(>|t|)    \n",
       "(Intercept)  700.793    106.358   6.589 8.56e-11 ***\n",
       "season        61.824     24.244   2.550 0.010977 *  \n",
       "yr           286.685     28.861   9.933  < 2e-16 ***\n",
       "mnth         -15.744      7.562  -2.082 0.037690 *  \n",
       "holiday     -274.214     89.012  -3.081 0.002144 ** \n",
       "weekday       26.364      7.216   3.653 0.000278 ***\n",
       "workingday  -828.251     31.882 -25.979  < 2e-16 ***\n",
       "weathersit  -113.049     34.696  -3.258 0.001174 ** \n",
       "temp        1194.842    621.486   1.923 0.054931 .  \n",
       "atemp        894.855    703.714   1.272 0.203920    \n",
       "hum         -393.230    139.024  -2.829 0.004807 ** \n",
       "windspeed   -862.054    202.020  -4.267 2.24e-05 ***\n",
       "---\n",
       "Signif. codes:  0 '***' 0.001 '**' 0.01 '*' 0.05 '.' 0.1 ' ' 1\n",
       "\n",
       "Residual standard error: 386.3 on 719 degrees of freedom\n",
       "Multiple R-squared:  0.6883,\tAdjusted R-squared:  0.6835 \n",
       "F-statistic: 144.3 on 11 and 719 DF,  p-value: < 2.2e-16\n"
      ]
     },
     "metadata": {},
     "output_type": "display_data"
    }
   ],
   "source": [
    "MultiLinearReg=lm(casual~.,data=data)\n",
    "summary(MultiLinearReg)"
   ]
  },
  {
   "cell_type": "markdown",
   "metadata": {},
   "source": [
    "## Remove \"temp\", \"atemp\" as they are not siginficant"
   ]
  },
  {
   "cell_type": "code",
   "execution_count": 9,
   "metadata": {
    "scrolled": true
   },
   "outputs": [
    {
     "data": {
      "text/plain": [
       "\n",
       "Call:\n",
       "lm(formula = casual ~ season + yr + mnth + holiday + weekday + \n",
       "    workingday + weathersit + hum + windspeed, data = data)\n",
       "\n",
       "Residuals:\n",
       "     Min       1Q   Median       3Q      Max \n",
       "-1435.28  -334.64    25.92   307.60  2165.07 \n",
       "\n",
       "Coefficients:\n",
       "             Estimate Std. Error t value Pr(>|t|)    \n",
       "(Intercept)  1323.726    129.637  10.211  < 2e-16 ***\n",
       "season        210.599     30.726   6.854 1.54e-11 ***\n",
       "yr            330.864     37.887   8.733  < 2e-16 ***\n",
       "mnth          -37.038      9.873  -3.751  0.00019 ***\n",
       "holiday      -300.580    117.011  -2.569  0.01040 *  \n",
       "weekday        29.683      9.480   3.131  0.00181 ** \n",
       "workingday   -787.892     41.880 -18.813  < 2e-16 ***\n",
       "weathersit   -286.377     44.494  -6.436 2.23e-10 ***\n",
       "hum           206.105    179.170   1.150  0.25039    \n",
       "windspeed   -1032.829    261.887  -3.944 8.80e-05 ***\n",
       "---\n",
       "Signif. codes:  0 '***' 0.001 '**' 0.01 '*' 0.05 '.' 0.1 ' ' 1\n",
       "\n",
       "Residual standard error: 508.2 on 721 degrees of freedom\n",
       "Multiple R-squared:  0.4589,\tAdjusted R-squared:  0.4522 \n",
       "F-statistic: 67.95 on 9 and 721 DF,  p-value: < 2.2e-16\n"
      ]
     },
     "metadata": {},
     "output_type": "display_data"
    }
   ],
   "source": [
    "MultiLinearReg=lm(casual~season+yr+mnth+holiday+weekday+workingday+weathersit+hum+windspeed,data=data)\n",
    "summary(MultiLinearReg)"
   ]
  },
  {
   "cell_type": "markdown",
   "metadata": {},
   "source": [
    "## Remove \"hum\" as it is not significant"
   ]
  },
  {
   "cell_type": "code",
   "execution_count": 10,
   "metadata": {
    "scrolled": true
   },
   "outputs": [
    {
     "data": {
      "text/plain": [
       "\n",
       "Call:\n",
       "lm(formula = casual ~ season + yr + mnth + holiday + weekday + \n",
       "    workingday + weathersit + windspeed, data = data)\n",
       "\n",
       "Residuals:\n",
       "     Min       1Q   Median       3Q      Max \n",
       "-1466.42  -346.29    25.49   305.49  2132.59 \n",
       "\n",
       "Coefficients:\n",
       "             Estimate Std. Error t value Pr(>|t|)    \n",
       "(Intercept)  1422.679     97.007  14.666  < 2e-16 ***\n",
       "season        212.023     30.708   6.904 1.11e-11 ***\n",
       "yr            325.899     37.649   8.656  < 2e-16 ***\n",
       "mnth          -36.166      9.846  -3.673 0.000257 ***\n",
       "holiday      -301.557    117.034  -2.577 0.010174 *  \n",
       "weekday        28.679      9.442   3.037 0.002471 ** \n",
       "workingday   -788.882     41.880 -18.837  < 2e-16 ***\n",
       "weathersit   -254.389     34.743  -7.322 6.53e-13 ***\n",
       "windspeed   -1123.211    249.879  -4.495 8.10e-06 ***\n",
       "---\n",
       "Signif. codes:  0 '***' 0.001 '**' 0.01 '*' 0.05 '.' 0.1 ' ' 1\n",
       "\n",
       "Residual standard error: 508.3 on 722 degrees of freedom\n",
       "Multiple R-squared:  0.458,\tAdjusted R-squared:  0.4519 \n",
       "F-statistic: 76.25 on 8 and 722 DF,  p-value: < 2.2e-16\n"
      ]
     },
     "metadata": {},
     "output_type": "display_data"
    }
   ],
   "source": [
    "MultiLinearReg=lm(casual~season+yr+mnth+holiday+weekday+workingday+weathersit+windspeed,data=data)\n",
    "summary(MultiLinearReg)"
   ]
  },
  {
   "cell_type": "markdown",
   "metadata": {},
   "source": [
    "# Conclusion"
   ]
  },
  {
   "cell_type": "markdown",
   "metadata": {},
   "source": [
    "### Finally the features extracted for Casual are season + yr + mnth + holiday + weekday + workingday + weathersit + windspeed"
   ]
  },
  {
   "cell_type": "markdown",
   "metadata": {},
   "source": [
    "### Finally the features extrcated for registered are: season + yr + weekday + workingday + weathersit + atemp + hum + windspeed "
   ]
  }
 ],
 "metadata": {
  "kernelspec": {
   "display_name": "R",
   "language": "R",
   "name": "ir"
  },
  "language_info": {
   "codemirror_mode": "r",
   "file_extension": ".r",
   "mimetype": "text/x-r-source",
   "name": "R",
   "pygments_lexer": "r",
   "version": "3.6.1"
  }
 },
 "nbformat": 4,
 "nbformat_minor": 2
}
