{
 "cells": [
  {
   "cell_type": "code",
   "execution_count": 2,
   "metadata": {},
   "outputs": [
    {
     "data": {
      "text/plain": [
       "146.20000000000002"
      ]
     },
     "execution_count": 2,
     "metadata": {},
     "output_type": "execute_result"
    }
   ],
   "source": [
    "import numpy as np   \n",
    "from sklearn import preprocessing\n",
    "import pandas as pd\n",
    "from sklearn.linear_model import LinearRegression\n",
    "from sklearn.naive_bayes import GaussianNB\n",
    "from sklearn.metrics import accuracy_score\n",
    "from sklearn.utils import shuffle\n",
    "import random\n",
    "#Importing data\n",
    "original = pd.read_csv(\"../Data/daily.csv\")\n",
    "target='cnt'\n",
    "or1=original.drop(columns=[\"instant\",\"dteday\",\"casual\",\"registered\"],axis=1)\n",
    "or1.head()\n",
    "len(or1)*.2"
   ]
  },
  {
   "cell_type": "code",
   "execution_count": 3,
   "metadata": {},
   "outputs": [],
   "source": [
    "# read the train and test dataset\n",
    "def function1(df1,target,test_prop=0.25):\n",
    "    \n",
    "    train=df1.sample(frac=1-test_prop)\n",
    "    test=df1.drop(train.index)\n",
    "    # shape of the dataset\n",
    "    #print('Shape of training data :',train.shape)\n",
    "    #print('Shape of testing data :',test.shape)\n",
    "\n",
    "    # seperate the independent and target variable on training data\n",
    "    train_predictors = train.drop(columns=[target],axis=1)\n",
    "    train_target = train[target]\n",
    "\n",
    "    # seperate the independent and target variable on testing data\n",
    "    test_predictors = test.drop(columns=[target],axis=1)\n",
    "    test_target = test[target]\n",
    "\n",
    "    #min_max_scaler = preprocessing.MinMaxScaler()\n",
    "    #train_predictors = min_max_scaler.fit_transform(train_predictors.values)\n",
    "    #test_predictors = min_max_scaler.fit_transform(test_predictors.values)\n",
    "    #train_target = min_max_scaler.fit_transform(train_target.values)\n",
    "    #model = GaussianNB()\n",
    "    \n",
    "    model = LinearRegression()\n",
    "    \n",
    "    # fit the model with the training data\n",
    "    model=model.fit(train_predictors,train_target)\n",
    "\n",
    "    # predict the target on the train dataset\n",
    "    #trained_result = model.predict(train_predictors)\n",
    "    \n",
    "    # Accuray Score on train dataset\n",
    "    #accuracy_train = accuracy_score(train_target,trained_result)\n",
    "    \n",
    "    # predict the target on the test dataset\n",
    "    predict_result_for_test = model.predict(test_predictors)\n",
    "    f=[]\n",
    "    tt=test_target.values\n",
    "    tp=predict_result_for_test\n",
    "    for i in range(0,len(test_target)):\n",
    "        #print(tp[i])\n",
    "        f.append((abs(tt[i]-tp[i])*100)/tt[i])\n",
    "    # Accuracy Score on test dataset\n",
    "    #accuracy_test = accuracy_score(test_target,predict_result_for_test)\n",
    "    return f,tt,tp"
   ]
  },
  {
   "cell_type": "code",
   "execution_count": 4,
   "metadata": {},
   "outputs": [
    {
     "name": "stdout",
     "output_type": "stream",
     "text": [
      "It has predicted 24.59016393442623 % of total values with below 5% error\n"
     ]
    }
   ],
   "source": [
    "import random\n",
    "cols = or1.columns\n",
    "g=[]\n",
    "for j in range(0,12):\n",
    "    d=[]\n",
    "    for i in range(0,100):\n",
    "        col = cols[:-1]\n",
    "        # In-place shuffle\n",
    "        p=random.choices(col,k=j)\n",
    "        df1=or1.drop(columns=p,axis=1)\n",
    "        change,act,pre = function1(df1,target)\n",
    "        e=sum(change)\n",
    "        les10=0\n",
    "        ab10=0\n",
    "        for i in range(0,len(change)):\n",
    "            if change[i]<5:\n",
    "                les10+=1\n",
    "            else:\n",
    "                ab10+=1\n",
    "        d.append([df1.columns,e,act,pre,change,les10/len(change)])\n",
    "    h=sorted(d, key = lambda x: int(x[5]),reverse=False)\n",
    "    #print(h[0])\n",
    "    g.append(h[0])\n",
    "bingo=sorted(g, key = lambda x: int(x[5]),reverse=False)\n",
    "chan=bingo[0][5]\n",
    "bingo[0][0]\n",
    "print(\"It has predicted\",chan*100,\"% of total values with below 5% error\")"
   ]
  },
  {
   "cell_type": "code",
   "execution_count": null,
   "metadata": {},
   "outputs": [],
   "source": []
  },
  {
   "cell_type": "code",
   "execution_count": null,
   "metadata": {},
   "outputs": [],
   "source": []
  }
 ],
 "metadata": {
  "kernelspec": {
   "display_name": "Python 3",
   "language": "python",
   "name": "python3"
  },
  "language_info": {
   "codemirror_mode": {
    "name": "ipython",
    "version": 3
   },
   "file_extension": ".py",
   "mimetype": "text/x-python",
   "name": "python",
   "nbconvert_exporter": "python",
   "pygments_lexer": "ipython3",
   "version": "3.7.3"
  }
 },
 "nbformat": 4,
 "nbformat_minor": 2
}
