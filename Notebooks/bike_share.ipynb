{
 "cells": [
  {
   "cell_type": "code",
   "execution_count": 5,
   "metadata": {},
   "outputs": [],
   "source": [
    "import numpy as np   \n",
    "from sklearn import preprocessing\n",
    "import pandas as pd\n",
    "from sklearn.linear_model import LinearRegression\n",
    "from sklearn.naive_bayes import GaussianNB\n",
    "from sklearn.metrics import accuracy_score\n",
    "from sklearn.utils import shuffle\n",
    "import random\n",
    "random.seed(123)"
   ]
  },
  {
   "cell_type": "code",
   "execution_count": 6,
   "metadata": {},
   "outputs": [],
   "source": [
    "# read the train and test dataset\n",
    "def function1(df1,test_prop=0.25):\n",
    "    \n",
    "    train=df1.sample(frac=1-test_prop)\n",
    "    test=df1.drop(train.index)\n",
    "    # shape of the dataset\n",
    "\n",
    "    # seperate the independent and target variable on training data\n",
    "    train_predictors_c=train.drop(columns=['casual','cnt','holiday','hum','temp','atemp'],axis=1)\n",
    "    train_predictors_r=train.drop(columns=['registered','cnt','holiday','mnth','temp'],axis=1)\n",
    "    train_target_c = train['casual']\n",
    "    train_target_r = train['registered']\n",
    "\n",
    "    # seperate the independent and target variable on testing data\n",
    "    test_predictors_c=test.drop(columns=['casual','cnt','holiday','hum','temp','atemp'],axis=1)\n",
    "    test_predictors_r=test.drop(columns=['registered','cnt','holiday','mnth','temp'],axis=1)\n",
    "    test_target_c = test['casual']\n",
    "    test_target_r = test['registered']\n",
    "\n",
    "    model = LinearRegression()    \n",
    "    min_max_scaler = preprocessing.MinMaxScaler()\n",
    "    \n",
    "    train_predictors_c = min_max_scaler.fit_transform(train_predictors_c.values)\n",
    "    test_predictors_c = min_max_scaler.fit_transform(test_predictors_c.values)\n",
    "    model=model.fit(train_predictors_c,train_target_c)\n",
    "    predict_result_for_test_c = model.predict(test_predictors_c)\n",
    "    \n",
    "    train_predictors_r = min_max_scaler.fit_transform(train_predictors_r.values)\n",
    "    test_predictors_r = min_max_scaler.fit_transform(test_predictors_r.values)\n",
    "    model=model.fit(train_predictors_r,train_target_r)\n",
    "    predict_result_for_test_r = model.predict(test_predictors_r)\n",
    "\n",
    "    return test['cnt'],predict_result_for_test_r+predict_result_for_test_c"
   ]
  },
  {
   "cell_type": "code",
   "execution_count": 8,
   "metadata": {},
   "outputs": [
    {
     "data": {
      "text/plain": [
       "0.8669095324833029"
      ]
     },
     "execution_count": 8,
     "metadata": {},
     "output_type": "execute_result"
    }
   ],
   "source": [
    "random.seed(123)\n",
    "su=[]\n",
    "or_c=original.drop(columns=[\"instant\",\"dteday\"],axis=1)\n",
    "for i in range(0,45):\n",
    "    act_cnt,pre_cnt = function1(or_c)\n",
    "    act_cnt=act_cnt.values\n",
    "    pre_cnt=pre_cnt\n",
    "    f=[]\n",
    "    for i in range(0,len(act_cnt)):\n",
    "        f.append((abs(act_cnt[i]-pre_cnt[i])*100)/act_cnt[i])\n",
    "    les10=0\n",
    "    ab10=0\n",
    "    for i in range(0,len(f)):\n",
    "        if f[i]<20:\n",
    "            les10+=1\n",
    "        else:\n",
    "            ab10+=1\n",
    "    su.append(les10/len(f))\n",
    "sum(su)/len(su)"
   ]
  },
  {
   "cell_type": "code",
   "execution_count": null,
   "metadata": {},
   "outputs": [],
   "source": []
  },
  {
   "cell_type": "code",
   "execution_count": null,
   "metadata": {},
   "outputs": [],
   "source": []
  }
 ],
 "metadata": {
  "kernelspec": {
   "display_name": "Python 3",
   "language": "python",
   "name": "python3"
  },
  "language_info": {
   "codemirror_mode": {
    "name": "ipython",
    "version": 3
   },
   "file_extension": ".py",
   "mimetype": "text/x-python",
   "name": "python",
   "nbconvert_exporter": "python",
   "pygments_lexer": "ipython3",
   "version": "3.7.3"
  }
 },
 "nbformat": 4,
 "nbformat_minor": 2
}
